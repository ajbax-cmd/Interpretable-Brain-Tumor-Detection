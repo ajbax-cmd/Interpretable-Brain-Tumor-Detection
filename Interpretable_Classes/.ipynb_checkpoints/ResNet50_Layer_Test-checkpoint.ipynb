{
 "cells": [
  {
   "cell_type": "markdown",
   "id": "6e501719-f2be-49aa-abf5-1724d674469b",
   "metadata": {},
   "source": [
    "# Evaluate Layer Feature Space Correlation with Model Output Using Pearson Correlation\n",
    "##### -ResNet50 weights trained on combination of figshare, SARTAJ, and BR35H dataset"
   ]
  },
  {
   "cell_type": "code",
   "execution_count": null,
   "id": "616edaab-ec30-4406-bcc8-b21de38ddfb4",
   "metadata": {},
   "outputs": [],
   "source": [
    "import os\n",
    "import torch\n",
    "import gc\n",
    "import matplotlib.pyplot as plt\n",
    "from yolov8_interpretable import InterpretableYOLOTest\n",
    "\n",
    "def evaluate_multiple_layers(data_yaml_path, weights_path, layer_indices, batch_size=1, img_size=(640, 640)):\n",
    "    pearson_scores = {}\n",
    "    for layer_index in layer_indices:\n",
    "        print(f\"Evaluating layer at index: {layer_index}\")\n",
    "        weights = load_model(weights_path, model_class=None)\n",
    "        model = InterpretableYOLOTest(data_yaml_path, weights, target_layer_index=layer_index)\n",
    "        p_score = model.calculate_pearson_correlation() \n",
    "        pearson_scores[layer_index] = p_score\n",
    "        del model\n",
    "        gc.collect()\n",
    "    return pearson_scores\n",
    "\n",
    "def load_model(model_path, model_class=None):\n",
    "    model = torch.load(model_path)\n",
    "    model = model['model'].float()\n",
    "    model.eval()  \n",
    "    return model\n",
    "\n",
    "def plot_scores(layer_indices, pearson_scores):\n",
    "    scores = [pearson_scores[idx] for idx in layer_indices]\n",
    "    \n",
    "    # Line plot\n",
    "    plt.figure(figsize=(12, 6))\n",
    "    plt.plot(layer_indices, scores, marker='o')\n",
    "    plt.title('Pearson Scores by Layer Index')\n",
    "    plt.xlabel('Layer Index')\n",
    "    plt.ylabel('Pearson Score')\n",
    "    plt.grid(True)\n",
    "    plt.show()\n",
    "    \n",
    "def main():\n",
    "    data_yaml_path = '/home/alan/Documents/YOLOV8_interpretable/Dataset_2/data.yaml'\n",
    "    weights_path = '/home/alan/Documents/YOLOV8_interpretable/ResNet50_weights/Brain_Tumor_MRI.pth'\n",
    "\n",
    "    # Evaluate layers at every 20th index and add specific layers\n",
    "    layer_indices = list(range(100, 295, 20))  # every 20th layer\n",
    "    specific_layers = [292, 293, 294]\n",
    "    layer_indices.extend(specific_layers)\n",
    "    layer_indices = sorted(set(layer_indices))  # Ensure no duplicates and sort\n",
    "    \n",
    "    pearson_scores = evaluate_multiple_layers(data_yaml_path, weights_path, layer_indices)\n",
    "    \n",
    "    print(\"Layer Scores:\")\n",
    "    for layer_index in layer_indices:\n",
    "        print(f\"Layer {layer_index} - Pearson Score: {pearson_scores[layer_index]}\")\n",
    "    \n",
    "    # Choose the best layer based on the scores\n",
    "    best_pearson_index = max(pearson_scores, key=pearson_scores.get)\n",
    "    print(f\"Best pearson layer index: {best_pearson_index} with score: {pearson_scores[best_pearson_index]}\")\n",
    "    \n",
    "    plot_scores(layer_indices, pearson_scores)\n",
    "\n",
    "if __name__ == \"__main__\":\n",
    "    main()"
   ]
  }
 ],
 "metadata": {
  "kernelspec": {
   "display_name": "Python (mypyenv)",
   "language": "python",
   "name": "mypenv"
  },
  "language_info": {
   "codemirror_mode": {
    "name": "ipython",
    "version": 3
   },
   "file_extension": ".py",
   "mimetype": "text/x-python",
   "name": "python",
   "nbconvert_exporter": "python",
   "pygments_lexer": "ipython3",
   "version": "3.12.3"
  }
 },
 "nbformat": 4,
 "nbformat_minor": 5
}

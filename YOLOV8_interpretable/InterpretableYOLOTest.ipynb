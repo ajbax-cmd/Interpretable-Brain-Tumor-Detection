{
 "cells": [
  {
   "cell_type": "code",
   "execution_count": 3,
   "id": "fc09b874-cf84-48a5-a378-0aa6e0d6b599",
   "metadata": {},
   "outputs": [],
   "source": [
    "from yolov8_interpretable import InterpretableYOLOTest\n",
    "import matplotlib.cm as cm\n",
    "import matplotlib.pyplot as plt\n",
    "from sklearn.datasets import make_blobs"
   ]
  },
  {
   "cell_type": "code",
   "execution_count": 4,
   "id": "1ac4880c-6cc1-4b78-ae09-fd1931f74cba",
   "metadata": {
    "scrolled": true
   },
   "outputs": [],
   "source": [
    "def test_layer(target_layer_index=21):\n",
    "    data = '/home/alan/Documents/YOLOV8_interpretable/Dataset_1/brain-tumor-detection-dataset/Br35H-Mask-RCNN/data.yaml'\n",
    "    weights = '/home/alan/Documents/YOLOV8_interpretable/yolov8m_br35h.pt'\n",
    "    model = InterpretableYOLOTest(data, weights, target_layer_index)\n",
    "\n",
    "    #After feature extraction\n",
    "    reduced_features = model.reduce_dimensionality(model.features)\n",
    "    kmeans, clusters = model.cluster_features(reduced_features)\n",
    "    nn_results = model.nearest_neighbor_search(reduced_features, kmeans)\n",
    "    clustering_score = model.evaluate_clustering(reduced_features, clusters)\n",
    "\n",
    "    \n",
    "    print(\"Clustering score:\", clustering_score)\n",
    "    return clustering_score\n"
   ]
  },
  {
   "cell_type": "code",
   "execution_count": 6,
   "id": "426a7be9-b72e-41e6-8113-a4bbc6327a1f",
   "metadata": {},
   "outputs": [
    {
     "name": "stdout",
     "output_type": "stream",
     "text": [
      "Collected features for 500 samples from layer at index '21'.\n",
      "Clustering score: 0.27021312689248345\n",
      "0.27021312689248345\n"
     ]
    }
   ],
   "source": [
    "layer_21 = test_layer()\n",
    "print(layer_21)"
   ]
  },
  {
   "cell_type": "code",
   "execution_count": 7,
   "id": "5aa5cfbc-a213-4025-9efd-495b5830dd14",
   "metadata": {},
   "outputs": [
    {
     "name": "stdout",
     "output_type": "stream",
     "text": [
      "Collected features for 500 samples from layer at index '20'.\n",
      "Clustering score: 0.2746810688257607\n"
     ]
    }
   ],
   "source": [
    "layer_20 = test_layer(20)"
   ]
  },
  {
   "cell_type": "code",
   "execution_count": 8,
   "id": "2081c2c8-8217-4a1c-aec4-d78bd5c49691",
   "metadata": {},
   "outputs": [
    {
     "name": "stdout",
     "output_type": "stream",
     "text": [
      "Collected features for 500 samples from layer at index '19'.\n",
      "Clustering score: 0.2601559116524099\n"
     ]
    }
   ],
   "source": [
    "layer_19 = test_layer(19)"
   ]
  },
  {
   "cell_type": "code",
   "execution_count": 9,
   "id": "d7c6e616-7f5b-4fdd-9eb1-78e86c5073b2",
   "metadata": {},
   "outputs": [
    {
     "name": "stdout",
     "output_type": "stream",
     "text": [
      "Collected features for 500 samples from layer at index '18'.\n",
      "Clustering score: 0.26265237092614246\n"
     ]
    }
   ],
   "source": [
    "layer_18 = test_layer(18)"
   ]
  },
  {
   "cell_type": "code",
   "execution_count": 10,
   "id": "f368b402-ae8d-456b-9f6f-faa5ed8d3a3f",
   "metadata": {},
   "outputs": [
    {
     "name": "stdout",
     "output_type": "stream",
     "text": [
      "Collected features for 500 samples from layer at index '9'.\n",
      "Clustering score: 0.25894915435504084\n"
     ]
    }
   ],
   "source": [
    "layer_9 = test_layer(9)"
   ]
  },
  {
   "cell_type": "code",
   "execution_count": null,
   "id": "5809b7d2-749e-46c3-8ca7-63b8d97d9a9b",
   "metadata": {},
   "outputs": [
    {
     "name": "stdout",
     "output_type": "stream",
     "text": [
      "Collected features for 500 samples from layer at index '4'.\n",
      "Clustering score: 0.21481676664382376\n",
      "Collected features for 500 samples from layer at index '5'.\n",
      "Clustering score: 0.2260676870341321\n",
      "Collected features for 500 samples from layer at index '6'.\n",
      "Clustering score: 0.3011977623143346\n",
      "Collected features for 500 samples from layer at index '7'.\n",
      "Clustering score: 0.299135012579948\n",
      "Collected features for 500 samples from layer at index '8'.\n",
      "Clustering score: 0.2901668058040034\n",
      "Collected features for 500 samples from layer at index '9'.\n",
      "Clustering score: 0.24980082969469083\n",
      "Collected features for 500 samples from layer at index '10'.\n",
      "Clustering score: 0.2631884700401542\n",
      "Collected features for 500 samples from layer at index '11'.\n",
      "Clustering score: 0.26334960617339054\n",
      "Collected features for 500 samples from layer at index '12'.\n"
     ]
    }
   ],
   "source": [
    "scores = []\n",
    "for i in range(4,12,1):\n",
    "    scores.append(test_layer(i))\n",
    "layers = [i for i in range(4,22,1)]\n",
    "\n",
    "combined = list(zip(scores, layers))\n",
    "combined.sort(key=lambda x: x[0])\n",
    "sorted_scores, sorted_layers = zip(*combined)\n",
    "sorted_scores = list(sorted_scores)\n",
    "sorted_layers = list(sorted_layers)\n",
    "\n",
    "print(\"Sorted scores:\", sorted_scores)\n",
    "print(\"Sorted indexes:\", sorted_layers)"
   ]
  },
  {
   "cell_type": "code",
   "execution_count": 5,
   "id": "8140cbab-f864-4684-92ae-8b9654478f8b",
   "metadata": {},
   "outputs": [
    {
     "name": "stdout",
     "output_type": "stream",
     "text": [
      "Collected features for 500 samples from layer at index '13'.\n",
      "Clustering score: 0.2790542064137241\n"
     ]
    }
   ],
   "source": [
    "layer_13 = test_layer(13)"
   ]
  },
  {
   "cell_type": "code",
   "execution_count": null,
   "id": "3640b103-e88c-4d7f-8361-66dba90b3b68",
   "metadata": {},
   "outputs": [],
   "source": []
  }
 ],
 "metadata": {
  "kernelspec": {
   "display_name": "Python (mypyenv)",
   "language": "python",
   "name": "mypenv"
  },
  "language_info": {
   "codemirror_mode": {
    "name": "ipython",
    "version": 3
   },
   "file_extension": ".py",
   "mimetype": "text/x-python",
   "name": "python",
   "nbconvert_exporter": "python",
   "pygments_lexer": "ipython3",
   "version": "3.12.3"
  }
 },
 "nbformat": 4,
 "nbformat_minor": 5
}

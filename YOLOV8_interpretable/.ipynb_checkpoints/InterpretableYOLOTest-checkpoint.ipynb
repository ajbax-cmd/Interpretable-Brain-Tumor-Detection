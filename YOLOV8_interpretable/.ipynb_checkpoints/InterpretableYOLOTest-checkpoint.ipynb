{
 "cells": [
  {
   "cell_type": "code",
   "execution_count": 2,
   "id": "fc09b874-cf84-48a5-a378-0aa6e0d6b599",
   "metadata": {},
   "outputs": [],
   "source": [
    "from interpretable_dataset import InterpretableYOLODataset"
   ]
  },
  {
   "cell_type": "code",
   "execution_count": null,
   "id": "1ac4880c-6cc1-4b78-ae09-fd1931f74cba",
   "metadata": {},
   "outputs": [],
   "source": []
  }
 ],
 "metadata": {
  "kernelspec": {
   "display_name": "Python (mypyenv)",
   "language": "python",
   "name": "mypenv"
  },
  "language_info": {
   "codemirror_mode": {
    "name": "ipython",
    "version": 3
   },
   "file_extension": ".py",
   "mimetype": "text/x-python",
   "name": "python",
   "nbconvert_exporter": "python",
   "pygments_lexer": "ipython3",
   "version": "3.12.3"
  }
 },
 "nbformat": 4,
 "nbformat_minor": 5
}

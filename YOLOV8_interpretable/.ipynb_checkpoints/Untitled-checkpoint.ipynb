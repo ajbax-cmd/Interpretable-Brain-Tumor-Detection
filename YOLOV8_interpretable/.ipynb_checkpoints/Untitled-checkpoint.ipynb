{
 "cells": [
  {
   "cell_type": "code",
   "execution_count": 1,
   "id": "fc09b874-cf84-48a5-a378-0aa6e0d6b599",
   "metadata": {},
   "outputs": [
    {
     "ename": "ImportError",
     "evalue": "cannot import name 'InterpetableYOLOTest' from 'yolov8_interpretable' (/home/alan/Documents/YOLOV8_interpretable/yolov8_interpretable.py)",
     "output_type": "error",
     "traceback": [
      "\u001b[0;31m---------------------------------------------------------------------------\u001b[0m",
      "\u001b[0;31mImportError\u001b[0m                               Traceback (most recent call last)",
      "Cell \u001b[0;32mIn[1], line 1\u001b[0m\n\u001b[0;32m----> 1\u001b[0m \u001b[38;5;28;01mfrom\u001b[39;00m \u001b[38;5;21;01myolov8_interpretable\u001b[39;00m \u001b[38;5;28;01mimport\u001b[39;00m InterpetableYOLOTest\n",
      "\u001b[0;31mImportError\u001b[0m: cannot import name 'InterpetableYOLOTest' from 'yolov8_interpretable' (/home/alan/Documents/YOLOV8_interpretable/yolov8_interpretable.py)"
     ]
    }
   ],
   "source": [
    "from yolov8_interpretable import InterpetableYOLOTest"
   ]
  },
  {
   "cell_type": "code",
   "execution_count": null,
   "id": "1ac4880c-6cc1-4b78-ae09-fd1931f74cba",
   "metadata": {},
   "outputs": [],
   "source": []
  }
 ],
 "metadata": {
  "kernelspec": {
   "display_name": "Python (mypyenv)",
   "language": "python",
   "name": "mypenv"
  },
  "language_info": {
   "codemirror_mode": {
    "name": "ipython",
    "version": 3
   },
   "file_extension": ".py",
   "mimetype": "text/x-python",
   "name": "python",
   "nbconvert_exporter": "python",
   "pygments_lexer": "ipython3",
   "version": "3.12.3"
  }
 },
 "nbformat": 4,
 "nbformat_minor": 5
}
